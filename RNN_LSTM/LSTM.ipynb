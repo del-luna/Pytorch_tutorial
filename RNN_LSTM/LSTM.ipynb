{
 "cells": [
  {
   "cell_type": "code",
   "execution_count": 37,
   "metadata": {
    "ExecuteTime": {
     "end_time": "2021-04-04T18:19:15.942164Z",
     "start_time": "2021-04-04T18:19:15.925271Z"
    }
   },
   "outputs": [],
   "source": [
    "import numpy as np\n",
    "\n",
    "def sigmoid(x) -> np.ndarray:\n",
    "    return 1 / (1 + np.exp(-x))\n",
    "\n",
    "\n",
    "'''\n",
    "# Todo List\n",
    "\n",
    "- Add loss function\n",
    "- Add bias\n",
    "- Add Gradient Descent\n",
    "\n",
    "'''\n",
    "class np_lstm:\n",
    "    def __init__(self):\n",
    "        self.x = np.random.random((10, 5))\n",
    "        self.W_ii = np.random.random((8, 5))\n",
    "        self.W_if = np.random.random((8, 5))\n",
    "        self.W_ig = np.random.random((8, 5))\n",
    "        self.W_io = np.random.random((8, 5))\n",
    "        \n",
    "        self.W_hi = np.random.random((8, 8))\n",
    "        self.W_hf = np.random.random((8, 8))\n",
    "        self.W_hg = np.random.random((8, 8))\n",
    "        self.W_ho = np.random.random((8, 8))\n",
    "        self.c_0 = np.random.random((8,))\n",
    "        self.h_0 = np.random.random((8,))\n",
    "        \n",
    "        self.total_hidden_states = []\n",
    "    \n",
    "    def run(self):\n",
    "        for x in self.x:\n",
    "            '''input'''\n",
    "            i_t = sigmoid(np.matmul(x, self.W_ii.T)\\\n",
    "                          + np.matmul(self.h_0, self.W_hi.T))\n",
    "            \n",
    "            '''forget'''\n",
    "            f_t = sigmoid(np.matmul(x, self.W_if.T)\\\n",
    "                          + np.matmul(self.h_0, self.W_hf.T))\n",
    "            \n",
    "            '''cell'''\n",
    "            g_t = np.tanh(np.matmul(x, self.W_ig.T)\\\n",
    "                          + np.matmul(self.h_0, self.W_hg.T))\n",
    "            \n",
    "            '''output'''\n",
    "            o_t = sigmoid(np.matmul(x, self.W_io.T)\\\n",
    "                          + np.matmul(self.h_0, self.W_ho.T))\n",
    "            \n",
    "            '''update cell and hidden'''\n",
    "            self.c_0 = f_t * self.c_0 + i_t * g_t\n",
    "            self.h_0 = o_t * np.tanh(self.c_0)\n",
    "            \n",
    "            self.total_hidden_states.append(self.h_0)\n",
    "            \n",
    "        return np.array(self.total_hidden_states), self.h_0, self.c_0"
   ]
  },
  {
   "cell_type": "code",
   "execution_count": 38,
   "metadata": {
    "ExecuteTime": {
     "end_time": "2021-04-04T18:19:16.370048Z",
     "start_time": "2021-04-04T18:19:16.363898Z"
    }
   },
   "outputs": [
    {
     "name": "stdout",
     "output_type": "stream",
     "text": [
      "(10, 8)\n",
      "(8,)\n",
      "(8,)\n"
     ]
    }
   ],
   "source": [
    "lstm = np_lstm()\n",
    "outputs, h_t, c_t = lstm.run()\n",
    "print(outputs.shape)\n",
    "print(h_t.shape)\n",
    "print(c_t.shape)"
   ]
  },
  {
   "cell_type": "code",
   "execution_count": 1,
   "metadata": {
    "ExecuteTime": {
     "end_time": "2021-04-04T16:39:11.498394Z",
     "start_time": "2021-04-04T16:39:11.135455Z"
    },
    "scrolled": true
   },
   "outputs": [],
   "source": [
    "import torch\n",
    "import torch.nn as nn\n",
    "\n",
    "'''\n",
    "\n",
    "Inputs : input, (h_0, c_0) \n",
    "input of shape (seq_len, N, input_size)\n",
    "if (h_0, c_0) is not provide : h_0 and c_0 default to zero\n",
    "(h_0, c_0) of shape (num_layers * num_direction, N, hidden)\n",
    "\n",
    "Outputs : output, (h_n, c_n)\n",
    "output of shape (seq_len, N, num_direction*hidden)\n",
    "\n",
    "if batch_first:\n",
    "    intput and output tensors are provide as (N, seq, features)\n",
    "\n",
    "\n",
    "'''\n",
    "\n",
    "input_size = 5\n",
    "hidden_size = 8\n",
    "\n",
    "inputs = torch.Tensor(1, 10, input_size)#N, time, input\n",
    "lstm = nn.LSTM(input_size, hidden_size, batch_first=True)#same as rnn"
   ]
  },
  {
   "cell_type": "code",
   "execution_count": 10,
   "metadata": {
    "ExecuteTime": {
     "end_time": "2021-04-04T16:47:11.999661Z",
     "start_time": "2021-04-04T16:47:11.994162Z"
    }
   },
   "outputs": [
    {
     "name": "stdout",
     "output_type": "stream",
     "text": [
      "torch.Size([1, 10, 8])\n",
      "torch.Size([1, 1, 8])\n",
      "torch.Size([1, 1, 8])\n"
     ]
    }
   ],
   "source": [
    "outputs, h_c = lstm(inputs)\n",
    "h_t, c_t = h_c\n",
    "print(outputs.size())\n",
    "print(h_t.size())\n",
    "print(c_t.size())"
   ]
  },
  {
   "cell_type": "code",
   "execution_count": 11,
   "metadata": {
    "ExecuteTime": {
     "end_time": "2021-04-04T16:48:05.703286Z",
     "start_time": "2021-04-04T16:48:05.699271Z"
    }
   },
   "outputs": [
    {
     "name": "stdout",
     "output_type": "stream",
     "text": [
      "[['weight_ih_l0', 'weight_hh_l0', 'bias_ih_l0', 'bias_hh_l0']]\n",
      "size of weight_ih_l0 is torch.Size([32, 5])\n",
      "size of weight_hh_l0 is torch.Size([32, 8])\n",
      "size of bias_ih_l0 is torch.Size([32])\n",
      "size of bias_hh_l0 is torch.Size([32])\n"
     ]
    }
   ],
   "source": [
    "'''\n",
    "lstm has four times more gates(hidden) than rnn.\n",
    "\n",
    "w_ih = Parameter(torch.Tensor(gate_size, layer_input_size))\n",
    "w_hh = Parameter(torch.Tensor(gate_size, real_hidden_size))\n",
    "b_ih = Parameter(torch.Tensor(gate_size))\n",
    "b_hh = Parameter(torch.Tensor(gate_size))\n",
    "\n",
    "길이가 32인건 \n",
    "w_ih = (W_ii|W_if|W_ig|W_io) 각각 8개씩 4개라서 그럼.\n",
    "w_hh = (W_hi|W_hf|W_hg|W_ho) \n",
    "\n",
    "ih = input - hidden\n",
    "hh = hidden - hidden\n",
    "\n",
    "개별 레이어 확인 방법\n",
    "-> lstm.weight.ih_lk (kth layer)\n",
    "'''\n",
    "\n",
    "print(lstm._all_weights)\n",
    "\n",
    "for n, w in zip(lstm._all_weights[0], lstm._flat_weights):\n",
    "    print(f'size of {n} is {w.size()}') "
   ]
  },
  {
   "cell_type": "code",
   "execution_count": null,
   "metadata": {},
   "outputs": [],
   "source": []
  }
 ],
 "metadata": {
  "kernelspec": {
   "display_name": "Python 3",
   "language": "python",
   "name": "python3"
  },
  "language_info": {
   "codemirror_mode": {
    "name": "ipython",
    "version": 3
   },
   "file_extension": ".py",
   "mimetype": "text/x-python",
   "name": "python",
   "nbconvert_exporter": "python",
   "pygments_lexer": "ipython3",
   "version": "3.7.0"
  },
  "toc": {
   "base_numbering": 1,
   "nav_menu": {},
   "number_sections": true,
   "sideBar": true,
   "skip_h1_title": false,
   "title_cell": "Table of Contents",
   "title_sidebar": "Contents",
   "toc_cell": false,
   "toc_position": {},
   "toc_section_display": true,
   "toc_window_display": false
  }
 },
 "nbformat": 4,
 "nbformat_minor": 4
}
