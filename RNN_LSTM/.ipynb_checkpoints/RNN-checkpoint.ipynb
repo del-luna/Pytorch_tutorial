{
 "cells": [
  {
   "cell_type": "code",
   "execution_count": null,
   "metadata": {},
   "outputs": [],
   "source": [
    "import numpy as np\n",
    "\n",
    "'''\n",
    "h_t = tanh(W_x * x_t + W_h * h_(t-1) + b) \n",
    "\n",
    "'''\n",
    "\n",
    "def np_rnn() -> tuple : \n",
    "pass\n",
    "\n",
    "batch_size = 2\n",
    "timesteps = 10 \n",
    "input_size = 4 \n",
    "hidden_size = 8\n",
    "\n",
    "'''suppose bias=False'''\n",
    "\n",
    "inputs = np.random.random((batch_size, timesteps, input_size))\n",
    "W_x = np.random.random((hidden_size, input_size))\n",
    "W_h = np.random.random((hidden_size, hidden_size)) #square (hidden * hidden)"
   ]
  },
  {
   "cell_type": "code",
   "execution_count": 1,
   "metadata": {
    "ExecuteTime": {
     "end_time": "2021-04-04T14:11:08.386358Z",
     "start_time": "2021-04-04T14:10:58.542470Z"
    }
   },
   "outputs": [],
   "source": [
    "import torch\n",
    "import torch.nn as nn\n",
    "import torch.nn.functional as F\n",
    "\n",
    "'''\n",
    "h_t = tanh(W_ih * x_t + b_ih + W_hh * h_(t-1) + b_hh)\n",
    "\n",
    "W_ih = Parameter(torch.Tensor(hidden_size, layer_input_size))\n",
    "W_hh = Parameter(torch.Tensor(hidden_size, real_hidden_size))\n",
    "b_ih = Parameter(torch.Tensor(hidden_size))\n",
    "b_hh = Parameter(torch.Tensor(hidden_size))\n",
    "\n",
    "h_0 = (Defaults to zero if not provide)\n",
    "\n",
    "RNN input is X and h_0\n",
    "RNN output is Y and h_n\n",
    "\n",
    "output = (seq_len, batch, num_dir * hidden)\n",
    "if batch_fisrt:\n",
    "    output = (batch, seq, feature)\n",
    "    \n",
    "The output is the hidden states of all time steps.\n",
    "h_n is last hidden states\n",
    "\n",
    "h_n = (num_layers * num_directions, batch, hidden)\n",
    "'''\n",
    "\n",
    "input_size = 5\n",
    "hidden_size = 8\n",
    "\n",
    "inputs = torch.Tensor(1, 10, input_size)#N, time, input\n",
    "rnn = nn.RNN(input_size, hidden_size, batch_first=True)#input, hidden, inputs first tensor is batchsize"
   ]
  },
  {
   "cell_type": "code",
   "execution_count": 2,
   "metadata": {
    "ExecuteTime": {
     "end_time": "2021-04-04T14:11:10.864076Z",
     "start_time": "2021-04-04T14:11:10.856333Z"
    }
   },
   "outputs": [
    {
     "name": "stdout",
     "output_type": "stream",
     "text": [
      "torch.Size([1, 10, 8])\n",
      "torch.Size([1, 1, 8])\n"
     ]
    }
   ],
   "source": [
    "outputs, h_n = rnn(inputs)\n",
    "print(outputs.size()) #N, time, hidden\n",
    "print(h_n.size())#layer*direction, N, hidden"
   ]
  },
  {
   "cell_type": "code",
   "execution_count": 3,
   "metadata": {
    "ExecuteTime": {
     "end_time": "2021-04-04T14:11:11.544719Z",
     "start_time": "2021-04-04T14:11:11.541241Z"
    }
   },
   "outputs": [
    {
     "name": "stdout",
     "output_type": "stream",
     "text": [
      "[['weight_ih_l0', 'weight_hh_l0', 'bias_ih_l0', 'bias_hh_l0']]\n",
      "size of weight_ih_l0 is torch.Size([8, 5])\n",
      "size of weight_hh_l0 is torch.Size([8, 8])\n",
      "size of bias_ih_l0 is torch.Size([8])\n",
      "size of bias_hh_l0 is torch.Size([8])\n"
     ]
    }
   ],
   "source": [
    "print(rnn._all_weights)\n",
    "\n",
    "for n, w in zip(rnn._all_weights[0], rnn._flat_weights):\n",
    "    print(f'size of {n} is {w.size()}')    "
   ]
  },
  {
   "cell_type": "code",
   "execution_count": null,
   "metadata": {},
   "outputs": [],
   "source": []
  }
 ],
 "metadata": {
  "kernelspec": {
   "display_name": "Python 3",
   "language": "python",
   "name": "python3"
  },
  "language_info": {
   "codemirror_mode": {
    "name": "ipython",
    "version": 3
   },
   "file_extension": ".py",
   "mimetype": "text/x-python",
   "name": "python",
   "nbconvert_exporter": "python",
   "pygments_lexer": "ipython3",
   "version": "3.7.0"
  },
  "toc": {
   "base_numbering": 1,
   "nav_menu": {},
   "number_sections": true,
   "sideBar": true,
   "skip_h1_title": false,
   "title_cell": "Table of Contents",
   "title_sidebar": "Contents",
   "toc_cell": false,
   "toc_position": {},
   "toc_section_display": true,
   "toc_window_display": false
  }
 },
 "nbformat": 4,
 "nbformat_minor": 4
}
