{
 "cells": [
  {
   "cell_type": "code",
   "execution_count": 1,
   "metadata": {
    "ExecuteTime": {
     "end_time": "2021-04-04T14:11:58.781358Z",
     "start_time": "2021-04-04T14:11:58.477593Z"
    }
   },
   "outputs": [
    {
     "name": "stdout",
     "output_type": "stream",
     "text": [
      "network size is : torch.Size([3, 2])\n",
      "input size is : torch.Size([1, 2])\n"
     ]
    }
   ],
   "source": [
    "import torch\n",
    "import torch.nn as nn\n",
    "import torch.nn.functional as F\n",
    "\n",
    "m = nn.Linear(2,3, bias=False)\n",
    "m.weight.data = torch.ones(3,2)*2\n",
    "'''\n",
    "nn.Linear(in,out) -> Parameter(torch.tensor(out,in)) \n",
    "weight matrix W는 out,input 으로 받은 다음\n",
    "xW^T 로 연산함\n",
    "결국 x(N,in)*W(out, in)^T = x(N, in) * W(in, out) = y(N, out)\n",
    "'''\n",
    "print(f'network size is : {m.weight.data.size()}')\n",
    "x = torch.ones(1,2)\n",
    "print(f'input size is : {x.size()}')"
   ]
  },
  {
   "cell_type": "code",
   "execution_count": 2,
   "metadata": {
    "ExecuteTime": {
     "end_time": "2021-04-04T14:12:02.135939Z",
     "start_time": "2021-04-04T14:12:02.130542Z"
    }
   },
   "outputs": [
    {
     "name": "stdout",
     "output_type": "stream",
     "text": [
      "tensor([[4., 4., 4.]], grad_fn=<MmBackward>)\n",
      "torch.Size([1, 3])\n"
     ]
    }
   ],
   "source": [
    "print(m(x))\n",
    "print(m(x).size())"
   ]
  },
  {
   "cell_type": "code",
   "execution_count": 3,
   "metadata": {
    "ExecuteTime": {
     "end_time": "2021-04-04T14:12:06.483122Z",
     "start_time": "2021-04-04T14:12:06.478732Z"
    }
   },
   "outputs": [
    {
     "name": "stdout",
     "output_type": "stream",
     "text": [
      "tensor([[4., 4., 4.]])\n",
      "torch.Size([1, 3])\n"
     ]
    }
   ],
   "source": [
    "#Linear와 결과 동일\n",
    "mm_x = torch.matmul(x, torch.ones(2,3)*2)\n",
    "print(mm_x)\n",
    "print(mm_x.size())"
   ]
  },
  {
   "cell_type": "code",
   "execution_count": null,
   "metadata": {},
   "outputs": [],
   "source": []
  }
 ],
 "metadata": {
  "kernelspec": {
   "display_name": "Python 3",
   "language": "python",
   "name": "python3"
  },
  "language_info": {
   "codemirror_mode": {
    "name": "ipython",
    "version": 3
   },
   "file_extension": ".py",
   "mimetype": "text/x-python",
   "name": "python",
   "nbconvert_exporter": "python",
   "pygments_lexer": "ipython3",
   "version": "3.7.0"
  },
  "toc": {
   "base_numbering": 1,
   "nav_menu": {},
   "number_sections": true,
   "sideBar": true,
   "skip_h1_title": false,
   "title_cell": "Table of Contents",
   "title_sidebar": "Contents",
   "toc_cell": false,
   "toc_position": {},
   "toc_section_display": true,
   "toc_window_display": false
  }
 },
 "nbformat": 4,
 "nbformat_minor": 4
}
