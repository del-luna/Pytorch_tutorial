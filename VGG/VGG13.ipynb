{
 "cells": [
  {
   "cell_type": "code",
   "execution_count": 14,
   "metadata": {},
   "outputs": [],
   "source": [
    "import torch\n",
    "import torch.nn as nn\n",
    "import torchvision\n",
    "import torchvision.transforms as transforms\n",
    "from torch.utils.data import DataLoader\n",
    "import random\n",
    "import numpy as np\n",
    "import matplotlib.pyplot as plt\n",
    "from tqdm import tqdm\n",
    "from tqdm import trange\n",
    "import pretrainedmodels"
   ]
  },
  {
   "cell_type": "code",
   "execution_count": 3,
   "metadata": {},
   "outputs": [
    {
     "name": "stdout",
     "output_type": "stream",
     "text": [
      "use:  cuda\n"
     ]
    }
   ],
   "source": [
    "device = torch.device('cuda' if torch.cuda.is_available() else 'cpu')\n",
    "print('use: ',device)"
   ]
  },
  {
   "cell_type": "code",
   "execution_count": null,
   "metadata": {},
   "outputs": [],
   "source": [
    "def init_weight(m):\n",
    "    "
   ]
  },
  {
   "cell_type": "code",
   "execution_count": 4,
   "metadata": {},
   "outputs": [
    {
     "name": "stdout",
     "output_type": "stream",
     "text": [
      "Files already downloaded and verified\n",
      "Files already downloaded and verified\n"
     ]
    }
   ],
   "source": [
    "batch_size = 256\n",
    "\n",
    "transform_train = transforms.Compose([\n",
    "    transforms.RandomCrop(32, padding=4),\n",
    "    transforms.RandomHorizontalFlip(),\n",
    "    transforms.ToTensor(),\n",
    "    transforms.Normalize((0.5, 0.5, 0.5), (0.5, 0.5, 0.5))])\n",
    "\n",
    "transform_test = transforms.Compose([\n",
    "    transforms.ToTensor(),\n",
    "    transforms.Normalize((0.5, 0.5, 0.5), (0.5, 0.5, 0.5))])\n",
    "\n",
    "trainset = torchvision.datasets.CIFAR10(root='../data', train=True, download=True, transform=transform_train)\n",
    "trainloader = torch.utils.data.DataLoader(trainset,batch_size=batch_size, shuffle=True, drop_last=True)\n",
    "testset = torchvision.datasets.CIFAR10(root='../data', train=False, download=True, transform=transform_test)\n",
    "testloader = torch.utils.data.DataLoader(testset,batch_size=batch_size, shuffle=False, drop_last=True)\n",
    "\n",
    "classes = ('plane', 'car', 'bird', 'cat', 'deer', 'dog', 'frog', 'horse', 'ship', 'truck')"
   ]
  },
  {
   "cell_type": "code",
   "execution_count": 5,
   "metadata": {},
   "outputs": [],
   "source": [
    "cfg = {\n",
    "    'VGG11': [64, 'M', 128, 'M', 256, 256, 'M', 512, 512, 'M', 512, 512, 'M'],\n",
    "    'VGG13': [64, 64, 'M', 128, 128, 'M', 256, 256, 'M', 512, 512, 'M', 512, 512, 'M'],\n",
    "    'VGG16': [64, 64, 'M', 128, 128, 'M', 256, 256, 256, 'M', 512, 512, 512, 'M', 512, 512, 512, 'M'],\n",
    "    'VGG19': [64, 64, 'M', 128, 128, 'M', 256, 256, 256, 256, 'M', 512, 512, 512, 512, 'M', 512, 512, 512, 512, 'M'],\n",
    "}"
   ]
  },
  {
   "cell_type": "code",
   "execution_count": 6,
   "metadata": {},
   "outputs": [],
   "source": [
    "class VGG(nn.Module):\n",
    "    def __init__(self, vgg_name):\n",
    "        super(VGG, self).__init__()\n",
    "        self.features = self._make_layers(cfg[vgg_name])\n",
    "        self.classifier = nn.Linear(512, 10) # 32x32 img -> MaxPool:5 = 1x1xC(output)\n",
    "    \n",
    "    def forward(self, x):\n",
    "        out = self.features(x)\n",
    "        out = out.view(out.size(0), -1)\n",
    "        out = self.classifier(out)\n",
    "        return out\n",
    "    \n",
    "    def _make_layers(self, cfg):\n",
    "        layers = []\n",
    "        in_channels = 3\n",
    "        for x in cfg:\n",
    "            if x == 'M':\n",
    "                layers += [nn.MaxPool2d(kernel_size=2, stride=2)]\n",
    "            else:\n",
    "                layers += [nn.Conv2d(in_channels, x, kernel_size=3, padding=1),\n",
    "                           #nn.BatchNorm2d(x),\n",
    "                           nn.ReLU(inplace=True)]\n",
    "                in_channels = x\n",
    "                \n",
    "        return nn.Sequential(*layers)"
   ]
  },
  {
   "cell_type": "code",
   "execution_count": 7,
   "metadata": {
    "scrolled": true
   },
   "outputs": [],
   "source": [
    "cp = torch.load('../save/VGG11_default_checkpoint.pt')"
   ]
  },
  {
   "cell_type": "code",
   "execution_count": 8,
   "metadata": {},
   "outputs": [],
   "source": [
    "model=VGG('VGG13').to(device)"
   ]
  },
  {
   "cell_type": "code",
   "execution_count": 9,
   "metadata": {},
   "outputs": [
    {
     "data": {
      "text/plain": [
       "odict_keys(['features.0.weight', 'features.0.bias', 'features.2.weight', 'features.2.bias', 'features.5.weight', 'features.5.bias', 'features.7.weight', 'features.7.bias', 'features.10.weight', 'features.10.bias', 'features.12.weight', 'features.12.bias', 'features.15.weight', 'features.15.bias', 'features.17.weight', 'features.17.bias', 'features.20.weight', 'features.20.bias', 'features.22.weight', 'features.22.bias', 'classifier.weight', 'classifier.bias'])"
      ]
     },
     "execution_count": 9,
     "metadata": {},
     "output_type": "execute_result"
    }
   ],
   "source": [
    "model.state_dict().keys()"
   ]
  },
  {
   "cell_type": "code",
   "execution_count": 10,
   "metadata": {},
   "outputs": [
    {
     "data": {
      "text/plain": [
       "tensor([-9.6307e-02, -6.3981e-02, -2.0787e-02, -6.0120e-02, -3.0474e-02,\n",
       "         5.3520e-02,  1.4224e-01, -3.1359e-03, -5.3945e-02, -5.7479e-03,\n",
       "        -7.6409e-02, -5.2208e-02,  2.6886e-02,  6.1723e-02,  3.7134e-02,\n",
       "        -1.0836e-01,  1.7204e-02,  3.7348e-02, -2.4010e-02,  1.4214e-02,\n",
       "        -6.2564e-02, -6.7955e-03, -4.3203e-02, -7.3024e-02, -1.9597e-02,\n",
       "        -2.4603e-02, -9.3939e-03, -7.8519e-02, -7.3776e-02, -1.4225e-02,\n",
       "        -4.2548e-02, -2.1567e-02,  2.5212e-03,  2.4545e-02,  1.8092e-02,\n",
       "        -1.0579e-02,  1.6344e-02, -5.8259e-02, -5.4077e-02, -1.6832e-02,\n",
       "         5.5950e-02, -3.6089e-02, -3.1912e-02,  2.4301e-04, -3.3998e-02,\n",
       "        -5.2048e-02, -4.8185e-02,  2.7619e-02, -7.0189e-03, -1.1774e-01,\n",
       "        -5.3953e-02,  2.0322e-02, -5.2981e-02, -1.5786e-02, -2.9249e-02,\n",
       "         6.0297e-02, -5.2111e-02, -2.6225e-02, -2.1200e-02, -9.8737e-02,\n",
       "        -2.0648e-02,  9.8035e-03, -4.0156e-02, -4.1629e-02,  7.1549e-02,\n",
       "         1.8277e-02, -9.3071e-02,  3.3768e-02,  1.8422e-02, -2.5882e-02,\n",
       "        -6.7322e-02, -2.2407e-02,  3.6097e-03, -1.1376e-01, -8.6131e-04,\n",
       "        -7.1553e-02, -3.2346e-02, -4.7263e-03,  1.8392e-02,  7.8959e-03,\n",
       "        -7.1051e-02,  8.1303e-02,  9.0893e-03, -6.2234e-02, -8.8979e-02,\n",
       "         2.4906e-02,  8.4704e-02, -3.4164e-03, -1.5255e-02,  3.4981e-02,\n",
       "        -1.4128e-04,  5.6544e-02, -3.6741e-02, -1.3254e-01,  4.9016e-03,\n",
       "        -2.1055e-02,  5.0431e-03,  5.0007e-03, -4.7589e-02,  9.9533e-03,\n",
       "        -3.9444e-02,  1.9567e-02,  2.1998e-02, -2.4599e-02, -2.1649e-02,\n",
       "        -4.6607e-02, -5.0351e-02, -7.3011e-02, -4.3249e-02,  9.7757e-03,\n",
       "        -2.6453e-02, -6.8103e-03, -7.6994e-02, -8.3931e-02,  2.8884e-02,\n",
       "         8.4170e-02,  1.7781e-02, -4.7602e-02, -2.3955e-02,  3.2077e-02,\n",
       "        -1.4592e-02, -6.8180e-02, -7.1058e-02,  6.5604e-02,  1.6852e-03,\n",
       "        -2.6037e-02, -4.3895e-02, -2.3772e-02, -8.2634e-02, -2.9067e-02,\n",
       "        -3.2015e-02, -7.8303e-02,  3.9126e-03, -2.4994e-02, -2.6476e-02,\n",
       "        -2.9919e-02, -4.9678e-02, -7.5449e-02,  5.7786e-02,  3.5901e-02,\n",
       "        -4.4736e-02,  1.9533e-02, -4.3140e-02, -3.6912e-02, -1.7944e-02,\n",
       "        -1.3603e-03,  9.5739e-04, -5.8947e-02, -7.4605e-02, -6.6815e-02,\n",
       "         1.2359e-01,  2.1822e-02, -1.3541e-02, -1.0435e-02,  5.8327e-02,\n",
       "         1.0323e-02,  4.6747e-03, -1.0084e-01, -1.2220e-01, -6.8026e-02,\n",
       "        -7.2096e-02, -5.1628e-03, -1.2294e-02, -4.1613e-02, -1.3165e-02,\n",
       "        -1.2711e-01, -1.5597e-02, -3.1303e-02, -8.5346e-03, -3.6709e-02,\n",
       "        -8.2324e-02, -3.1877e-02,  2.1422e-02, -1.0468e-02,  4.7612e-03,\n",
       "         1.2923e-02, -8.5184e-02, -1.3765e-01, -5.5069e-03, -1.0044e-02,\n",
       "         1.1786e-02, -1.9824e-02, -6.0704e-03,  5.3004e-02, -2.1434e-02,\n",
       "        -1.3859e-02,  6.9501e-03,  3.3887e-04,  2.1789e-02, -7.6831e-02,\n",
       "        -1.7164e-02, -1.4989e-02, -3.1984e-03, -3.7886e-02, -1.0474e-01,\n",
       "         3.5735e-02, -4.4362e-02, -5.2410e-03, -3.4787e-02, -9.3229e-02,\n",
       "        -1.6734e-02,  3.5683e-02, -6.0350e-03,  3.4439e-02, -3.9579e-02,\n",
       "         3.2476e-03,  1.0850e-01,  4.4968e-02,  5.8287e-02, -1.2615e-01,\n",
       "         2.9053e-03, -4.1011e-02, -1.8340e-02, -3.5136e-02, -1.4040e-02,\n",
       "         3.5731e-02, -1.1412e-02, -5.4784e-02,  2.8754e-03, -7.7536e-02,\n",
       "        -6.1189e-02,  1.5470e-02, -1.3917e-02,  4.6296e-02, -1.0316e-01,\n",
       "        -2.8570e-02, -5.1736e-02,  5.3115e-02,  7.4590e-03,  4.2817e-02,\n",
       "         5.0585e-02, -1.2662e-02,  6.5122e-02, -4.7818e-02,  2.9304e-02,\n",
       "        -1.8459e-02, -3.0202e-02, -6.8377e-02, -2.8299e-02,  9.3804e-03,\n",
       "        -2.6756e-03, -7.2808e-02,  3.0184e-02, -2.0813e-01,  3.0791e-02,\n",
       "         6.9380e-02, -4.8633e-02, -4.1704e-02, -8.2018e-03,  1.3576e-02,\n",
       "        -4.5151e-03, -2.4240e-02, -9.2551e-02, -5.0727e-02, -5.1639e-02,\n",
       "        -5.7045e-02], device='cuda:0')"
      ]
     },
     "execution_count": 10,
     "metadata": {},
     "output_type": "execute_result"
    }
   ],
   "source": [
    "model.state_dict()['features.0.weight'].copy_(cp['model_state_dict']['features.0.weight'])#64_weight\n",
    "model.state_dict()['features.0.bias'].copy_(cp['model_state_dict']['features.0.bias'])#64_bias\n",
    "model.state_dict()['features.5.weight'].copy_(cp['model_state_dict']['features.3.weight'])#128_weight\n",
    "model.state_dict()['features.5.bias'].copy_(cp['model_state_dict']['features.3.bias'])#128_bias\n",
    "model.state_dict()['features.10.weight'].copy_(cp['model_state_dict']['features.6.weight'])#256_weight\n",
    "model.state_dict()['features.10.bias'].copy_(cp['model_state_dict']['features.6.bias'])#256_bias\n",
    "model.state_dict()['features.12.weight'].copy_(cp['model_state_dict']['features.8.weight'])#256_weight\n",
    "model.state_dict()['features.12.bias'].copy_(cp['model_state_dict']['features.8.bias'])#256_bias"
   ]
  },
  {
   "cell_type": "code",
   "execution_count": null,
   "metadata": {},
   "outputs": [],
   "source": []
  },
  {
   "cell_type": "code",
   "execution_count": 11,
   "metadata": {},
   "outputs": [],
   "source": [
    "criterion = nn.CrossEntropyLoss().to(device)\n",
    "optimizer = torch.optim.SGD(model.parameters(), lr = 0.01, momentum = 0.9, weight_decay = 5e-4)\n",
    "scheduler = torch.optim.lr_scheduler.ReduceLROnPlateau(optimizer, 'min')"
   ]
  },
  {
   "cell_type": "code",
   "execution_count": 12,
   "metadata": {},
   "outputs": [
    {
     "name": "stdout",
     "output_type": "stream",
     "text": [
      "total_batch : 195\n"
     ]
    }
   ],
   "source": [
    "total_batch = len(trainloader)\n",
    "print(f'total_batch : {total_batch}')"
   ]
  },
  {
   "cell_type": "code",
   "execution_count": 22,
   "metadata": {},
   "outputs": [
    {
     "name": "stderr",
     "output_type": "stream",
     "text": [
      "Loss : 0.624:   0%|          | 0/100 [00:15<?, ?it/s]"
     ]
    },
    {
     "name": "stdout",
     "output_type": "stream",
     "text": [
      "epoch:   0, lr=0.010000\n"
     ]
    },
    {
     "name": "stderr",
     "output_type": "stream",
     "text": [
      "Loss : 0.446:  10%|█         | 10/100 [03:06<25:37, 17.09s/it]"
     ]
    },
    {
     "name": "stdout",
     "output_type": "stream",
     "text": [
      "epoch:  10, lr=0.010000\n"
     ]
    },
    {
     "name": "stderr",
     "output_type": "stream",
     "text": [
      "Loss : 0.265:  20%|██        | 20/100 [05:57<22:50, 17.13s/it]"
     ]
    },
    {
     "name": "stdout",
     "output_type": "stream",
     "text": [
      "epoch:  20, lr=0.010000\n"
     ]
    },
    {
     "name": "stderr",
     "output_type": "stream",
     "text": [
      "Loss : 0.203:  30%|███       | 30/100 [08:49<19:59, 17.14s/it]"
     ]
    },
    {
     "name": "stdout",
     "output_type": "stream",
     "text": [
      "epoch:  30, lr=0.010000\n"
     ]
    },
    {
     "name": "stderr",
     "output_type": "stream",
     "text": [
      "Loss : 0.166:  40%|████      | 40/100 [11:40<17:08, 17.14s/it]"
     ]
    },
    {
     "name": "stdout",
     "output_type": "stream",
     "text": [
      "epoch:  40, lr=0.010000\n"
     ]
    },
    {
     "name": "stderr",
     "output_type": "stream",
     "text": [
      "Loss : 0.143:  50%|█████     | 50/100 [14:32<14:17, 17.16s/it]"
     ]
    },
    {
     "name": "stdout",
     "output_type": "stream",
     "text": [
      "epoch:  50, lr=0.010000\n"
     ]
    },
    {
     "name": "stderr",
     "output_type": "stream",
     "text": [
      "Loss : 0.130:  60%|██████    | 60/100 [17:23<11:26, 17.17s/it]"
     ]
    },
    {
     "name": "stdout",
     "output_type": "stream",
     "text": [
      "epoch:  60, lr=0.010000\n"
     ]
    },
    {
     "name": "stderr",
     "output_type": "stream",
     "text": [
      "Loss : 0.102:  70%|███████   | 70/100 [20:15<08:34, 17.15s/it]"
     ]
    },
    {
     "name": "stdout",
     "output_type": "stream",
     "text": [
      "epoch:  70, lr=0.010000\n"
     ]
    },
    {
     "name": "stderr",
     "output_type": "stream",
     "text": [
      "Loss : 0.147:  80%|████████  | 80/100 [23:07<05:43, 17.16s/it]"
     ]
    },
    {
     "name": "stdout",
     "output_type": "stream",
     "text": [
      "epoch:  80, lr=0.010000\n"
     ]
    },
    {
     "name": "stderr",
     "output_type": "stream",
     "text": [
      "Loss : 0.077:  90%|█████████ | 90/100 [25:58<02:51, 17.17s/it]"
     ]
    },
    {
     "name": "stdout",
     "output_type": "stream",
     "text": [
      "epoch:  90, lr=0.010000\n"
     ]
    },
    {
     "name": "stderr",
     "output_type": "stream",
     "text": [
      "Loss : 0.009: 100%|██████████| 100/100 [28:34<00:00, 17.14s/it]\n"
     ]
    }
   ],
   "source": [
    "training_epoch =  100\n",
    "train_acc_list = []\n",
    "test_acc_list = []\n",
    "pbar = trange(training_epoch, desc='Loss : 0', leave=True, position=0)\n",
    "\n",
    "for epoch in pbar:\n",
    "    train_acc = 0\n",
    "    test_acc = 0\n",
    "    model.train()\n",
    "    for X,y in trainloader:\n",
    "        X = X.to(device)\n",
    "        y = y.to(device)\n",
    "        optimizer.zero_grad()\n",
    "        output = model(X)\n",
    "        loss = criterion(output, y)\n",
    "        loss.backward()\n",
    "        optimizer.step()\n",
    "        train_acc += (output.argmax(1)==y).float().mean()\n",
    "    train_acc_list.append(train_acc/total_batch) #acc per epoch\n",
    "    for param_group in optimizer.param_groups:\n",
    "        lr = param_group['lr']\n",
    "        if epoch%10 == 0:\n",
    "            print('epoch: {:3d}, lr={:.6f}'.format(epoch, lr))\n",
    "    scheduler.step(loss)\n",
    "    model.eval()\n",
    "    pbar.set_description(\"Loss : %.3f\" % loss)\n",
    "    for X,y in testloader:\n",
    "        with torch.no_grad():\n",
    "            X = X.to(device)\n",
    "            y = y.to(device)\n",
    "            result = model(X)\n",
    "            test_acc += (result.argmax(1)==y).float().mean()\n",
    "    test_acc_list.append(test_acc/len(testloader))"
   ]
  },
  {
   "cell_type": "code",
   "execution_count": 23,
   "metadata": {
    "scrolled": true
   },
   "outputs": [
    {
     "data": {
      "image/png": "[encoded data removed]",
      "text/plain": [
       "<Figure size 720x720 with 1 Axes>"
      ]
     },
     "metadata": {
      "needs_background": "light"
     },
     "output_type": "display_data"
    }
   ],
   "source": [
    "fig, ax = plt.subplots(1, 1, figsize=(10, 10))\n",
    "ax.set_title(\"Training/Test Accuracy\")\n",
    "ax.set_ylabel(\"Accuracy\")\n",
    "ax.set_xlabel(\"Epoch\")\n",
    "ax.plot(range(1, len(train_acc_list)+1), train_acc_list)\n",
    "ax.plot(range(1, len(test_acc_list)+1), test_acc_list)\n",
    "ax.legend(['Train', 'Test'])\n",
    "plt.show()"
   ]
  },
  {
   "cell_type": "code",
   "execution_count": 24,
   "metadata": {},
   "outputs": [],
   "source": [
    "torch.save({\n",
    "            'epoch': training_epoch,\n",
    "            'model_state_dict': model.state_dict(),\n",
    "            'optimizer_state_dict': optimizer.state_dict(),\n",
    "            'loss': loss,\n",
    "            'train_accuracy': train_acc_list,\n",
    "            'test_accuracy' : test_acc_list\n",
    "            }, '../save/VGG13_default_checkpoint.pt')"
   ]
  },
  {
   "cell_type": "code",
   "execution_count": 25,
   "metadata": {},
   "outputs": [],
   "source": [
    "cp = torch.load('../save/VGG13_default_checkpoint.pt')"
   ]
  },
  {
   "cell_type": "code",
   "execution_count": 26,
   "metadata": {},
   "outputs": [
    {
     "data": {
      "text/plain": [
       "tensor(0.8964, device='cuda:0')"
      ]
     },
     "execution_count": 26,
     "metadata": {},
     "output_type": "execute_result"
    }
   ],
   "source": [
    "cp['test_accuracy'][99]"
   ]
  },
  {
   "cell_type": "code",
   "execution_count": null,
   "metadata": {},
   "outputs": [],
   "source": []
  }
 ],
 "metadata": {
  "kernelspec": {
   "display_name": "Python [conda env:devcat] *",
   "language": "python",
   "name": "conda-env-devcat-py"
  },
  "language_info": {
   "codemirror_mode": {
    "name": "ipython",
    "version": 3
   },
   "file_extension": ".py",
   "mimetype": "text/x-python",
   "name": "python",
   "nbconvert_exporter": "python",
   "pygments_lexer": "ipython3",
   "version": "3.7.6"
  }
 },
 "nbformat": 4,
 "nbformat_minor": 4
}
